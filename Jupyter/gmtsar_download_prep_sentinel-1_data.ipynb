{
 "cells": [
  {
   "cell_type": "markdown",
   "id": "59d04a73",
   "metadata": {},
   "source": [
    "# Example: How to Download and Start Processing Sentinel-1 Data\n",
    "\n",
    "### In this demo we will walk you through the steps of:\n",
    "\n",
    "(1) Searching for and downloading Sentinel-1 SLC data\n",
    "\n",
    "(2) Obtaining the proper supporting files for data processing (e.g. orbit files, DEM grids)\n",
    "\n",
    "(3) Preparing to process your Sentinel-1 images\n",
    "\n",
    "(4) Processing your images\n",
    "\n",
    "(5) Viewing and interpreting the interferogram (after processing is complete)\n",
    "\n",
    "These steps, as presented in this notebook, should be applicable to most study areas, though remember that the Sentinel-1 satellite is a C-Band instrument, so data in heavily vegetated areas should be used with care.\n",
    "\n",
    "##### Additionally, we will refer you to other prepared GMTSAR examples (https://topex.ucsd.edu/gmtsar/downloads/), that have undergone steps (1), (2), and (3) already, so you can explore both other examples of Sentinel-1 data, as well as other examples using data from other SAR satellite sources.\n",
    "\n",
    "Let's get started!\n",
    "\n",
    "\n"
   ]
  },
  {
   "cell_type": "markdown",
   "id": "1492bad8",
   "metadata": {},
   "source": [
    "## (1) Searching for and downloading Sentinel-1 SLC Data (manually)\n",
    "\n",
    "To download Sentinel-1 data using a manual web-viewer, you can either go to the: \n",
    "\n",
    "Alaska Satellite Facility (ASF): https://search.asf.alaska.edu/#/\n",
    "\n",
    "or visit the European Space Agency (ESA) Copernicus Open Access Hub: https://scihub.copernicus.eu/dhus/#/home \n",
    "\n",
    "##### NOTE: You will need to make an account with ASF and/or Copernicus to actually download data (ASF will prompt you to enter your secure credentials before a data download, and Copernicus will ask you before you start your search)\n",
    "\n",
    "---\n",
    "In this demo, we will use ASF, but the data search functions are similar for each site. If you click on the ASF link above it will take you to a webpage that looks like this:\n",
    "\n",
    "![01_ASF_splashpage](PNGS/01_ASF_splashpage.png)\n",
    "\n",
    "\n",
    "\n",
    "\n",
    "\n",
    "### Identify your study area and draw a box to start the search\n",
    "\n",
    "Today we are going to look at interseismic deformation from Sentinel-1 data around the southern Los Angeles area, so we can zoom into Los Angeles, and draw a box around the area we're interested in. Your cursor should already be a blue dot that you can click to form a box, but if not, just the draw a polygon or draw a box buttons in the toolbar:\n",
    "\n",
    "![02_ASF_LAbox](PNGS/02_ASF_LAbox2.png)\n"
   ]
  },
  {
   "cell_type": "markdown",
   "id": "114b8eac",
   "metadata": {},
   "source": []
  },
  {
   "cell_type": "markdown",
   "id": "ac1c1a55",
   "metadata": {},
   "source": [
    "### Next, set search parameters\n",
    "\n",
    "The next thing we need to do is filter the 23,538 files that match our search area (see the number next to the \"UPDATE\" button at the top?). Click on the \"Filters\" button next to the UPDATE button at the top of the page to bring up the following:\n",
    "\n",
    "![02_ASF_searchbox](PNGS/03_ASF_searchbox.png)"
   ]
  },
  {
   "cell_type": "markdown",
   "id": "22a724e9",
   "metadata": {},
   "source": [
    "We are going to look for data in May and June of 2015, so we will chose a start date of 5/15/2015 and an end date of 06/10/2015. If you are looking to process a single pair of images, we'd recommend starting with two dates that are relatively close together in time, as that will increase the likelihood of good coherence between the two. \n",
    "\n",
    "We will use these filters from the drawdown menus to search for SLC TOPS mode (IW) data:\n",
    "\n",
    "FILE TYPE: `L1 Single Look Complex (SLC)`\n",
    "\n",
    "BEAM MODE: `IW`\n",
    "\n",
    "POLARIZATION: `VV` and `VV+VH`\n",
    "\n",
    "DIRECTION: `Ascending`\n",
    "\n",
    "SUBTYPE: either will do, so we leave it blank (this is whether you want satellite S1A or S1B)\n",
    "\n",
    "PATH START/END: If you know exactly what number of Sentinel-1 track of data you want, put that here. \n",
    "\n",
    "FRAME START/END: If you know exactly what Frame number in what track you want, put that here.\n",
    "\n",
    "\n",
    "\n",
    "![04_ASF_params](PNGS/04_ASF_params.png)\n",
    "\n",
    "\n",
    "### Check out results\n",
    "Check out how many files we've filtered to! Let's see what those look like when we click \"UPDATE\":\n",
    "\n",
    "\n",
    "![05_ASF_results](PNGS/05_ASF_results.png)\n"
   ]
  },
  {
   "cell_type": "markdown",
   "id": "a83bd8a5",
   "metadata": {},
   "source": []
  },
  {
   "cell_type": "markdown",
   "id": "4e3f7e84",
   "metadata": {},
   "source": [
    "### Choosing SLC images to download\n",
    "\n",
    "Now that we've filtered our results, we need to pick our two images to download and interfere! Since our study area is well covered by the frame highlighted in red in the above image, we only need to download data from one track. If your study area has split coverage from two tracks, we'd recommend picking one track and processing that pair to start with.\n",
    "\n",
    "In our case, this track, or path, is track 064, which you can find if you expand the Scene Detail tool bar (see below) and read the detail info about this image. The highlighted image is immediately selected for you in the list, so you can easily choose and download what you want. This image selected was collected on 05/26/2015, and since we want the next image that's been collected closest in time, we can either scroll through and find the next image that also covers this same spatial area (looks like the image taken on 06/07/2015) \n",
    "\n",
    "![06_ASF_toolbar](PNGS/06_ASF_toolbar.png)\n",
    "\n",
    "\n",
    "\n",
    "#### ASF's Baseline Tool\n",
    "\n",
    "OR if you're feeling adventurous, you can use ASF's baseline tool by selecting one image you like, and then clicking on the `Baseline` button at the bottom of the screen. This will calculate and plot the perpendicular baseline and the temporal baseline of all images in the approximate location of that one first image. This makes it easy to find images that cover the same spatial area and close in time to the signal you are trying to investigate. From this plot and list, we can see that, indeed, the next closest image in time is the image collected on 06/07/2015.\n",
    "\n",
    "![07_ASF_baseline](PNGS/07_ASF_baseline.png)"
   ]
  },
  {
   "cell_type": "markdown",
   "id": "c50f7637",
   "metadata": {},
   "source": [
    "### Downloading Data\n",
    "\n",
    "At this point, we've identified two images we want to download and process (the SLC image from 05/26/2015 and the image from 06/07/2015). To download these, we can click the little \"shopping cart\" button next to the image name, and that image will essentially be added to our shopping cart, accessed at the \"Downloads\" button at the top of the page, where we can then click the \"Download\" cloud shaped button. \n",
    "\n",
    "![08_ASF_download](PNGS/08_ASF_download.png)\n",
    "\n",
    "However, to download data, you need to be signed in, so it may prompt you to do so at this time. \n",
    "\n",
    "NOTE: Because these tend to be very large files (e.g. 2-3 GB per SLC file), they make take a little while to download, depending on your internet connection. \n",
    "\n",
    "Once you have downloaded your SLC data, move them into a new directory and unzip them. Once unzipped, each of the data files will have a file name ending with `*.SAFE` ."
   ]
  },
  {
   "cell_type": "code",
   "execution_count": 3,
   "id": "22a77eed",
   "metadata": {},
   "outputs": [
    {
     "name": "stdout",
     "output_type": "stream",
     "text": [
      "\u001b[31mS1A_IW_SLC__1SSV_20150526T014935_20150526T015002_006086_007E23_679A.SAFE-report-20150526T065857.pdf\u001b[m\u001b[m\r\n",
      "\u001b[34mannotation\u001b[m\u001b[m\r\n",
      "\u001b[31mmanifest.safe\u001b[m\u001b[m\r\n",
      "\u001b[34mmeasurement\u001b[m\u001b[m\r\n",
      "\u001b[34mpreview\u001b[m\u001b[m\r\n",
      "\u001b[34msupport\u001b[m\u001b[m\r\n"
     ]
    }
   ],
   "source": [
    "# Let's look at these files; If running this on your local machine, \n",
    "# make sure this notebook is in the same directory as your data files\n",
    "import os\n",
    "\n",
    "! ls S1A_IW_SLC__1SSV_20150526T014935_20150526T015002_006086_007E23_679A.SAFE\n"
   ]
  },
  {
   "cell_type": "markdown",
   "id": "e7e9f34e",
   "metadata": {},
   "source": [
    "We can see that in the `*.SAFE` directory there are more directories. The `measurement` directory contains the actual data files, in `*.tiff` format. The `annotation` directory contains `*.xml` files that will be important when co-registering our two images together to make an interferogram. The `preview` directory contains useful user maps, included a Google Earth `map_overlay.kml` file and a `quick-look.png`. From this `quick-look.png` we can see our study area, with the areas of Rancho Palos Verdes (top blue circle) and La Jolla (bottom blue circle) marked for reference:\n",
    "\n",
    "![09_SAFEfile](PNGS/09_SAFE_overview.png)\n",
    "\n",
    "Notice the three different subswaths of collected data from left to right. This is a key feature of TOPS-mode SAR data. We will process each one of these three subswaths separately, and then merge them after we calculate their interferograms. Addionally, one can choose to only process one or two of the subswaths alone. This is often done if one of your data file's subswatchs is entirely made up of water, to avoid processing the area of bad correlation.\n"
   ]
  },
  {
   "cell_type": "markdown",
   "id": "97689b78",
   "metadata": {},
   "source": [
    "#### What's with the long names?!\n",
    "\n",
    "Yes, the SLC data file names are very long, but there is useful information in the file name, specifically the collection time of the image. Here is a helpful guide from the ASF website: https://asf.alaska.edu/data-sets/sar-data-sets/sentinel-1/sentinel-1-data-and-imagery/\n",
    "\n",
    "![10_SAFE_name](PNGS/10_SAFE_name.png)"
   ]
  },
  {
   "cell_type": "markdown",
   "id": "858d65be",
   "metadata": {},
   "source": [
    "## (2) Obtaining the proper supporting files for data processing (e.g. orbit files, DEM grids)\n",
    "\n",
    "In order to process these two SLC images and make interferograms, we will need a few supporting data files. The first of these types of files is an orbit file, which contains all the orbit information for the satellite that was collecting the image (i.e. the exact location of the satellite and it's trajectory). The second type of file we'll need is a DEM (Digital Elevation Model) grid, which will help us to correct for topographic phase effects and help us geocode and project our final results into latitude/longitude coordinates.\n",
    "\n",
    "### Orbit Files\n",
    "\n",
    "Orbit files are currently available through ESA's Precise Orbit Determination (POD) Hub: https://scihub.copernicus.eu/gnss/#/home . However, finding the *correct* orbit file that matches your SLC data file can be difficult, mainly because the file names are long, filled with numerical characters, and easy to misread. \n",
    "\n",
    "We have recently developed a GMTSAR script called `download_sentinel_orbits.csh` (or `download_sentinel_orbits_linux.csh` for LINUX users) that will download these orbit files for you, thereby saving you the pain of having to match dates from file names perfectly yourself. Let's look at the usage of this script:\n",
    "\n"
   ]
  },
  {
   "cell_type": "code",
   "execution_count": 4,
   "id": "dc0a5709",
   "metadata": {},
   "outputs": [
    {
     "name": "stdout",
     "output_type": "stream",
     "text": [
      "\r\n",
      "Usage: download_sentinel_orbits.csh safefilelist mode\r\n",
      "  Downloads precise or restituted orbits for specific Sentinel-1 *.SAFE data files  \r\n",
      "\r\n",
      "safefilelist:\r\n",
      "    absolutepathto/filename1.SAFE\r\n",
      "    absolutepathto/filename2.SAFE\r\n",
      "    ......\r\n",
      "mode:\r\n",
      "    mode 1 = precise orbits (POEORB)\r\n",
      "            (most users should choose precise orbits)\r\n",
      "    mode 2 = temporary (restituted) orbits (RESORB)\r\n",
      "            (only recent data (~last couple weeks) requires restituted\r\n",
      "            orbits, because precise orbits are not yet finalized)\r\n",
      "\r\n",
      "Example: download_sentinel_orbits.csh SAFEfile.list 1\r\n",
      "\r\n",
      "Note: \r\n",
      "  (1) Files listed in safefilelist should be the .SAFE directory with absolute path.\r\n",
      "\r\n"
     ]
    }
   ],
   "source": [
    "# To go download orbits using download_sentinel_orbits.csh or download_sentinel_orbits_linux.csh\n",
    "# please make a list of your *.SAFE files with the absolute path to their location on your machine\n",
    "import os\n",
    "\n",
    "! download_sentinel_orbits.csh\n"
   ]
  },
  {
   "cell_type": "markdown",
   "id": "e6b08215",
   "metadata": {},
   "source": [
    "Most of the time we want precise orbit files, not restituted orbit files, because precise orbit files have the finalized orbital trajectory information. If we run this, this script should download two files that end with `*.EOF`. \n",
    "\n",
    "NOTE: This script relies on the utility `wget` . If your machine does not have this utility, it will spit out an error like: `wget: command not found`. You will need to install `wget` to run this properly."
   ]
  },
  {
   "cell_type": "code",
   "execution_count": 6,
   "id": "5f36a695",
   "metadata": {},
   "outputs": [
    {
     "name": "stdout",
     "output_type": "stream",
     "text": [
      "S1A_OPER_AUX_POEORB_OPOD_20210307T064730_V20150525T225944_20150527T005944.EOF\r\n",
      "S1A_OPER_AUX_POEORB_OPOD_20210307T104652_V20150606T225944_20150608T005944.EOF\r\n"
     ]
    }
   ],
   "source": [
    "! ls *.EOF"
   ]
  },
  {
   "cell_type": "markdown",
   "id": "77b1e14f",
   "metadata": {},
   "source": [
    "And now we have our orbit files!\n",
    "\n",
    "### DEM File\n",
    "\n",
    "Next, we need to download our DEM that covers our study area, and in particular the area covered by our SAR images. We can download DEM a rectangle at a time from the website:\n",
    "\n",
    "https://topex.ucsd.edu/gmtsar/demgen/\n",
    "\n",
    "but we'll need to know the latitude and longitude boundaries of a box that entirely captures our SAR scene. To do this, we turn to Google Earth. We can plot the `map_overlay.kml` file from our `S1A_IW_SLC__1SSV_20150526T014935_20150526T015002_006086_007E23_679A.SAFE/preview` directory in Google Earth to see it's extent in latitude/longitude:\n",
    "\n",
    "![11_GE1](PNGS/11_GE_overlay.png)\n",
    "\n",
    "\n",
    "As you can see the actual collected image is slightly sideways when projected into latitutde/longitude, but to more easily see the boundaries we'll need to use, we plot a white box behind the image. We plot two pins, and from those pins (or by hovering your cursor over the point and looking at the bottom bar where it reports latitude/longitude), you can grab the necessary lat/long boundaries.\n",
    "\n",
    "![12_GE2](PNGS/12_GE_overlay2.png)\n",
    "\n",
    "#### Download the DEM\n",
    "\n",
    "Once, we have the boundary coordinates from Google Earth, then we can plug them in to the DEM generator online (https://topex.ucsd.edu/gmtsar/demgen/), and download our DEM file. The downloaded file will need to be unzipped, and inside the directory will be a file called `dem.grd`. We will want this file for processing.\n",
    "\n",
    "![13_DEM](PNGS/13_DEM.png)\n"
   ]
  },
  {
   "cell_type": "markdown",
   "id": "907bda8c",
   "metadata": {},
   "source": []
  },
  {
   "cell_type": "markdown",
   "id": "b90fe311",
   "metadata": {},
   "source": [
    "## (3) Preparing to process your Sentinel-1 images\n",
    "\n",
    "Now, we're ready to set up the directory structure for processing our two SAR images and creating an interferogram. First, if you haven't made a working directory yet, make one now. We'll call ours `LA_Example`. Inside this working directory, make two more directories, one called `raw` and one called `topo`. "
   ]
  },
  {
   "cell_type": "code",
   "execution_count": null,
   "id": "80c40bb8",
   "metadata": {},
   "outputs": [],
   "source": [
    "# For example:\n",
    "\n",
    "#! mkdir LA_Example\n",
    "#! cd LA_Example\n",
    "#! mkdir raw\n",
    "#! mkdir topo"
   ]
  },
  {
   "cell_type": "markdown",
   "id": "1c1e677d",
   "metadata": {},
   "source": [
    "In the `raw/` directory, place your two `*.SAFE` data file directories as well as your two `*.EOF` orbit files. \n",
    "\n",
    "In the `topo/` directory, place your `dem.grd` file. "
   ]
  },
  {
   "cell_type": "code",
   "execution_count": 10,
   "id": "66f9d069",
   "metadata": {},
   "outputs": [
    {
     "name": "stdout",
     "output_type": "stream",
     "text": [
      "Check raw/ first...\n",
      "\u001b[34mS1A_IW_SLC__1SDV_20150607T014936_20150607T015003_006261_00832E_3626.SAFE\u001b[m\u001b[m\n",
      "\u001b[34mS1A_IW_SLC__1SSV_20150526T014935_20150526T015002_006086_007E23_679A.SAFE\u001b[m\u001b[m\n",
      "S1A_OPER_AUX_POEORB_OPOD_20210307T064730_V20150525T225944_20150527T005944.EOF\n",
      "S1A_OPER_AUX_POEORB_OPOD_20210307T104652_V20150606T225944_20150608T005944.EOF\n",
      " \n",
      "Check topo/ next...\n",
      "dem.grd\n"
     ]
    }
   ],
   "source": [
    "# let's check\n",
    "\n",
    "! echo \"Check raw/ first...\"\n",
    "! ls LA_Example/raw\n",
    "\n",
    "! echo \" \"\n",
    "\n",
    "! echo \"Check topo/ next...\"\n",
    "! ls LA_Example/topo\n",
    "\n"
   ]
  },
  {
   "cell_type": "markdown",
   "id": "998a247c",
   "metadata": {},
   "source": [
    "Now everything should be in the right place to start processing!"
   ]
  },
  {
   "cell_type": "markdown",
   "id": "166328f2",
   "metadata": {},
   "source": [
    "## (4) Processing your Sentinel-1 images\n",
    "\n",
    "To process these two images we will be using a processing script called `p2p_S1_TOPS_Frame.csh`. One can also check out the universal script called `p2p_processing.csh` which can work with a variety of different satellite data types. \n",
    "\n",
    "When typing out the command to run either `p2p_S1_TOPS_Frame.csh` or `p2p_processing.csh`, make sure to copy and paste the long file names to avoid typos. In addition, make sure to pair the correct `*.SAFE` file with the correct orbit file, based on the dates of collection (e.g. file `S1A_IW_SLC__1SSV_20150526T014935_20150526T015002_006086_007E23_679A.SAFE` should be paired with file `S1A_OPER_AUX_POEORB_OPOD_20210307T064730_V20150525T225944_20150527T005944.EOF` because the date of collection (2015/05/26) matches the date of the orbit file period (`S1A_*_V20150525T225944_20150527T005944*.EOF` or 2015/05/25 - 2015/05/27, the dates and times specifed after the capital letter \"V\" )\n",
    "\n",
    "##### NOTE: Because this processing will likely take a couple hours, we do not actually run it as part of this notebook. However, the commands are written below for clarity and/or copying/pasting."
   ]
  },
  {
   "cell_type": "code",
   "execution_count": null,
   "id": "242608d1",
   "metadata": {},
   "outputs": [],
   "source": [
    "# FROM THE README.txt FILE:\n",
    "#  This is an example script to process a swath of TOPS mode SAR data collected by the Sentinel 1A satellite.\n",
    "#  It will process every subswath and merge the resulting interferograms.\n",
    "#\n",
    "#  The final results may be found in the merge folder.\n",
    "#  Interferograms for each individual subswath may be found in the F1, F2, and F3 folders.\n",
    "#\n",
    "# make a standard config file\n",
    "#\n",
    "! pop_config.csh S1_TOPS > config.txt\n",
    "#\n",
    "#   make a merged interferogram\n",
    "#\n",
    "! p2p_S1_TOPS_Frame.csh S1A_IW_SLC__1SSV_20150526T014935_20150526T015002_006086_007E23_679A.SAFE S1A_OPER_AUX_POEORB_OPOD_20210307T064730_V20150525T225944_20150527T005944.EOF S1A_IW_SLC__1SDV_20150607T014936_20150607T015003_006261_00832E_3626.SAFE S1A_OPER_AUX_POEORB_OPOD_20210307T104652_V20150606T225944_20150608T005944.EOF config.txt vv 0\n",
    "#\n",
    "#\n",
    "#  The final argument of the script is a processing factor that governs whether the subswaths will be processed sequentially or in parallel.\n",
    "#  A processing factor of 1 will have the script process the subswaths in parallel.\n",
    "#  A processing factor of 0 will have the script process the subswaths sequentially. This is better for computers less memory, but takes longer to executes."
   ]
  },
  {
   "cell_type": "markdown",
   "id": "32cd08e8",
   "metadata": {},
   "source": [
    "If you want to delve into exactly what the processing workflow is for GMTSAR, please see the Jupyter Notebook `gmtsar_rs2_demo.ipynb` on the GMTSAR Short Course 2022 Github page: https://github.com/gmtsar/2022-unavco-course-gmtsar\n"
   ]
  },
  {
   "cell_type": "markdown",
   "id": "12eaca7d",
   "metadata": {},
   "source": [
    "## (5) Viewing and interpreting the interferogram (after processing is complete)\n",
    "\n",
    "Okay, your processing ran for a couple hours, and now it's time to see what it did! The main, merged results for TOPS-mode interferograms will be in the `merge/` directory of our example directory, so let's see what is in there:"
   ]
  },
  {
   "cell_type": "code",
   "execution_count": 11,
   "id": "c4fa2662",
   "metadata": {},
   "outputs": [
    {
     "name": "stdout",
     "output_type": "stream",
     "text": [
      "S1_20150526_014935_F1.LED gmt.history               phasefilt_mask.grd\r\n",
      "S1_20150526_014935_F1.PRM mask.grd                  phasefilt_mask_ll.grd\r\n",
      "config.txt                mask2.grd                 phasefilt_mask_ll.kml\r\n",
      "corr.cpt                  merge_log                 phasefilt_mask_ll.png\r\n",
      "corr.grd                  merge_log_corr            raln.grd\r\n",
      "corr_ll.grd               merge_log_mask            ralt.grd\r\n",
      "corr_ll.kml               phase.cpt                 tmp.filelist\r\n",
      "corr_ll.png               phasefilt.grd             tmp_corrlist\r\n",
      "dem.grd                   phasefilt_ll.grd          tmp_masklist\r\n",
      "gauss_200                 phasefilt_ll.kml          tmp_phaselist\r\n",
      "gmt.conf                  phasefilt_ll.png          trans.dat\r\n"
     ]
    }
   ],
   "source": [
    "! ls LA_Example/merge"
   ]
  },
  {
   "cell_type": "markdown",
   "id": "ef99d70d",
   "metadata": {},
   "source": [
    "There are a number of files in here, but the two main things we want to look at are `corr.grd` and its derivatives and `phase.grd` and its derivatives. The `corr.grd` is the correlation between the two images, while the `phase.grd` is the actual wrapped interferogram we have calculated. The file `phasefilt.grd` is a filtered wrapped interferogram that has undergone additional processing to ensure the signal is better recovered. \n",
    "\n",
    "All files with the ending `*_ll.*` means that those files have been projected to latitude/longitude coordinates, and will be far easier to look at and interpret than the files in radar coordinates. Let's look at `phasefilt_mask_ll.png`:\n",
    "\n",
    "![14_phase](PNGS/14_phasefilt.png)\n",
    "\n",
    "This interferogram shows a typical mix of atmospheric effects with interseismic deformation. Since these images are only twelve days apart, the amount of interseismic deformation is quite low, and is likely buried by the larger effects of the troposphere and/or ionosphere. "
   ]
  },
  {
   "cell_type": "markdown",
   "id": "7acd9721",
   "metadata": {},
   "source": [
    "## Time to play!\n",
    "\n",
    "This is how you can set up any set of interferogram pairs for processing. We encourage you to try to download and set up your own examples with your particular study areas. \n",
    "\n",
    "If you want to see more examples that are already prepared for you, check out the \"Sample InSAR data\" section of the GMTSAR website:\n",
    "\n",
    "https://topex.ucsd.edu/gmtsar/downloads/\n",
    "\n",
    "Here you will find examples from all over the world, using multiple different satellites' data, that are ready to run. To see how exactly to run each of these examples, please read the README.txt files that are stored inside the main directory, after you download it. \n",
    "\n",
    "### Questions? Contact your breakout group instructor."
   ]
  },
  {
   "cell_type": "code",
   "execution_count": null,
   "id": "a18be26d",
   "metadata": {},
   "outputs": [],
   "source": []
  }
 ],
 "metadata": {
  "kernelspec": {
   "display_name": "Python 3 (ipykernel)",
   "language": "python",
   "name": "python3"
  },
  "language_info": {
   "codemirror_mode": {
    "name": "ipython",
    "version": 3
   },
   "file_extension": ".py",
   "mimetype": "text/x-python",
   "name": "python",
   "nbconvert_exporter": "python",
   "pygments_lexer": "ipython3",
   "version": "3.8.4"
  }
 },
 "nbformat": 4,
 "nbformat_minor": 5
}
